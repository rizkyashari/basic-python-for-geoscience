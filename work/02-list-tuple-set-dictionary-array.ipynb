{
 "cells": [
  {
   "cell_type": "markdown",
   "metadata": {},
   "source": [
    "Data Collection"
   ]
  },
  {
   "cell_type": "code",
   "execution_count": 2,
   "metadata": {},
   "outputs": [],
   "source": [
    "list_data = [1, 2, 3, 4, 5, 6]"
   ]
  },
  {
   "cell_type": "code",
   "execution_count": 3,
   "metadata": {},
   "outputs": [
    {
     "data": {
      "text/plain": [
       "[1, 2, 3, 4, 5, 6]"
      ]
     },
     "execution_count": 3,
     "metadata": {},
     "output_type": "execute_result"
    }
   ],
   "source": [
    "list_data"
   ]
  },
  {
   "cell_type": "code",
   "execution_count": 5,
   "metadata": {},
   "outputs": [
    {
     "data": {
      "text/plain": [
       "1"
      ]
     },
     "execution_count": 5,
     "metadata": {},
     "output_type": "execute_result"
    }
   ],
   "source": [
    "list_data[0]"
   ]
  },
  {
   "cell_type": "code",
   "execution_count": 6,
   "metadata": {},
   "outputs": [
    {
     "data": {
      "text/plain": [
       "6"
      ]
     },
     "execution_count": 6,
     "metadata": {},
     "output_type": "execute_result"
    }
   ],
   "source": [
    "list_data[5]"
   ]
  },
  {
   "cell_type": "code",
   "execution_count": 8,
   "metadata": {},
   "outputs": [
    {
     "data": {
      "text/plain": [
       "[1, 2, 3]"
      ]
     },
     "execution_count": 8,
     "metadata": {},
     "output_type": "execute_result"
    }
   ],
   "source": [
    "list_data[0:3]"
   ]
  },
  {
   "cell_type": "code",
   "execution_count": 9,
   "metadata": {},
   "outputs": [
    {
     "data": {
      "text/plain": [
       "[1, 3, 5]"
      ]
     },
     "execution_count": 9,
     "metadata": {},
     "output_type": "execute_result"
    }
   ],
   "source": [
    "list_data[0:5:2]"
   ]
  },
  {
   "cell_type": "markdown",
   "metadata": {},
   "source": [
    "Tugas Part A"
   ]
  },
  {
   "cell_type": "code",
   "execution_count": 13,
   "metadata": {},
   "outputs": [
    {
     "name": "stdout",
     "output_type": "stream",
     "text": [
      "9\n",
      "[1, 9, 1]\n",
      "[2, 1, 4]\n"
     ]
    }
   ],
   "source": [
    "var_a = [2, 1, 9, 1, 3, 4]\n",
    "print(var_a[2])\n",
    "print(var_a[1:4])\n",
    "print([var_a[0],var_a[1],var_a[5]])"
   ]
  },
  {
   "cell_type": "markdown",
   "metadata": {},
   "source": [
    "Tugas Part B"
   ]
  },
  {
   "cell_type": "code",
   "execution_count": 3,
   "metadata": {},
   "outputs": [
    {
     "name": "stdout",
     "output_type": "stream",
     "text": [
      "max_id:  62\n",
      "min_id:  11\n",
      "data_range:  51\n",
      "mean:  32.44444444444444\n",
      "my_list:  [12, 21, 33, 45, 54, 62, 23, 11]\n",
      "my_list:  [12, 21, 33, 45, 54, 62, 23, 11, 999]\n",
      "combined_list:  [12, 21, 33, 45, 54, 62, 23, 11, 999, [1, 2, 3, 4, 5, 6, 3, 2, 1], [1, 2, 3, 4, 5, 6, 3, 2, 1], [1, 2, 3, 4, 5, 6, 3, 2, 1]]\n",
      "combined_list:  [12, 21, 33, 45, 54, 62, 23, 11, 999, [1, 2, 3, 4, 5, 6, 3, 2, 1], [1, 2, 3, 4, 5, 6, 3, 2, 1], -999]\n"
     ]
    }
   ],
   "source": [
    "my_2d_list = [[1, 2, 3, 4, 5, 6, 3, 2, 1], [1, 2, 3, 4, 5, 6, 3, 2, 1], [1, 2, 3, 4, 5, 6, 3, 2, 1]]\n",
    "my_list = [12, 21, 33, 45, 54, 62, 31, 23, 11]\n",
    "\n",
    "#Nilai maksimum dari my_list\n",
    "max_1d = max(my_list)\n",
    "print('max_id: ', max_1d)\n",
    "\n",
    "#Nilai minimum dari my_list\n",
    "min_1d = min(my_list)\n",
    "print('min_id: ', min_1d)\n",
    "\n",
    "#Range data\n",
    "data_range = max_1d - min_1d\n",
    "print('data_range: ', data_range)\n",
    "\n",
    "#Nilai rata-rata dari my_list\n",
    "avg_1d = sum(my_list)/len(my_list)\n",
    "print('mean: ', avg_1d)\n",
    "\n",
    "#Hapus elemen 31 pada my_list\n",
    "my_list.remove(31)\n",
    "print('my_list: ', my_list)\n",
    "\n",
    "#Tambahkan nilai 999 di akhir list\n",
    "my_list.append(999)\n",
    "print('my_list: ', my_list)\n",
    "\n",
    "#Lakukan penjumlahan antara my_list dengan my_2d_list\n",
    "combined_list = my_list + my_2d_list\n",
    "print('combined_list: ', combined_list)\n",
    "\n",
    "#Ubah nilai terakhir dari combined_list menjadi -999\n",
    "combined_list[11] = -999\n",
    "print('combined_list: ', combined_list)"
   ]
  },
  {
   "cell_type": "markdown",
   "metadata": {},
   "source": [
    "Tuple dan Set"
   ]
  },
  {
   "cell_type": "code",
   "execution_count": 7,
   "metadata": {},
   "outputs": [
    {
     "name": "stdout",
     "output_type": "stream",
     "text": [
      "(1, 2, 3, 1, 2, 3)\n"
     ]
    }
   ],
   "source": [
    "var_a = (1, 2, 3, 1, 2, 3)\n",
    "print(var_a)"
   ]
  },
  {
   "cell_type": "code",
   "execution_count": 11,
   "metadata": {},
   "outputs": [
    {
     "name": "stdout",
     "output_type": "stream",
     "text": [
      "{1, 2, 3}\n",
      "1\n",
      "(1, 2)\n"
     ]
    },
    {
     "ename": "TypeError",
     "evalue": "'set' object is not subscriptable",
     "output_type": "error",
     "traceback": [
      "\u001b[1;31m---------------------------------------------------------------------------\u001b[0m",
      "\u001b[1;31mTypeError\u001b[0m                                 Traceback (most recent call last)",
      "\u001b[1;32m~\\AppData\\Local\\Temp\\ipykernel_16620\\967768213.py\u001b[0m in \u001b[0;36m<module>\u001b[1;34m\u001b[0m\n\u001b[0;32m      3\u001b[0m \u001b[0mprint\u001b[0m\u001b[1;33m(\u001b[0m\u001b[0mvar_a\u001b[0m\u001b[1;33m[\u001b[0m\u001b[1;36m3\u001b[0m\u001b[1;33m]\u001b[0m\u001b[1;33m)\u001b[0m\u001b[1;33m\u001b[0m\u001b[1;33m\u001b[0m\u001b[0m\n\u001b[0;32m      4\u001b[0m \u001b[0mprint\u001b[0m\u001b[1;33m(\u001b[0m\u001b[0mvar_a\u001b[0m\u001b[1;33m[\u001b[0m\u001b[1;36m3\u001b[0m\u001b[1;33m:\u001b[0m\u001b[1;36m5\u001b[0m\u001b[1;33m]\u001b[0m\u001b[1;33m)\u001b[0m\u001b[1;33m\u001b[0m\u001b[1;33m\u001b[0m\u001b[0m\n\u001b[1;32m----> 5\u001b[1;33m \u001b[0mprint\u001b[0m\u001b[1;33m(\u001b[0m\u001b[0mvar_b\u001b[0m\u001b[1;33m[\u001b[0m\u001b[1;36m0\u001b[0m\u001b[1;33m]\u001b[0m\u001b[1;33m)\u001b[0m\u001b[1;33m\u001b[0m\u001b[1;33m\u001b[0m\u001b[0m\n\u001b[0m",
      "\u001b[1;31mTypeError\u001b[0m: 'set' object is not subscriptable"
     ]
    }
   ],
   "source": [
    "var_b = {1, 2, 3, 1, 2, 3}\n",
    "print(var_b)\n",
    "print(var_a[3])\n",
    "print(var_a[3:5])\n",
    "print(var_b[0])"
   ]
  },
  {
   "cell_type": "markdown",
   "metadata": {},
   "source": [
    "Operasi pada Tuple dan Set"
   ]
  },
  {
   "cell_type": "code",
   "execution_count": 13,
   "metadata": {},
   "outputs": [
    {
     "name": "stdout",
     "output_type": "stream",
     "text": [
      "(1, 2, 3, 1, 2, 3, 1, 2, 3, 1, 2, 3)\n"
     ]
    },
    {
     "ename": "TypeError",
     "evalue": "can only concatenate tuple (not \"set\") to tuple",
     "output_type": "error",
     "traceback": [
      "\u001b[1;31m---------------------------------------------------------------------------\u001b[0m",
      "\u001b[1;31mTypeError\u001b[0m                                 Traceback (most recent call last)",
      "\u001b[1;32m~\\AppData\\Local\\Temp\\ipykernel_16620\\878967234.py\u001b[0m in \u001b[0;36m<module>\u001b[1;34m\u001b[0m\n\u001b[0;32m      2\u001b[0m \u001b[0mvar_b\u001b[0m \u001b[1;33m=\u001b[0m \u001b[1;33m{\u001b[0m\u001b[1;36m1\u001b[0m\u001b[1;33m,\u001b[0m \u001b[1;36m2\u001b[0m\u001b[1;33m,\u001b[0m \u001b[1;36m3\u001b[0m\u001b[1;33m,\u001b[0m \u001b[1;36m1\u001b[0m\u001b[1;33m,\u001b[0m \u001b[1;36m2\u001b[0m\u001b[1;33m,\u001b[0m \u001b[1;36m3\u001b[0m\u001b[1;33m}\u001b[0m\u001b[1;33m\u001b[0m\u001b[1;33m\u001b[0m\u001b[0m\n\u001b[0;32m      3\u001b[0m \u001b[0mprint\u001b[0m\u001b[1;33m(\u001b[0m\u001b[0mvar_a\u001b[0m\u001b[1;33m*\u001b[0m\u001b[1;36m2\u001b[0m\u001b[1;33m)\u001b[0m\u001b[1;33m\u001b[0m\u001b[1;33m\u001b[0m\u001b[0m\n\u001b[1;32m----> 4\u001b[1;33m \u001b[0mprint\u001b[0m\u001b[1;33m(\u001b[0m\u001b[0mvar_a\u001b[0m \u001b[1;33m+\u001b[0m \u001b[0mvar_b\u001b[0m\u001b[1;33m)\u001b[0m\u001b[1;33m\u001b[0m\u001b[1;33m\u001b[0m\u001b[0m\n\u001b[0m",
      "\u001b[1;31mTypeError\u001b[0m: can only concatenate tuple (not \"set\") to tuple"
     ]
    }
   ],
   "source": [
    "var_a = (1, 2, 3, 1, 2, 3)\n",
    "var_b = {1, 2, 3, 1, 2, 3}\n",
    "print(var_a*2)\n",
    "print(var_a + var_b)"
   ]
  },
  {
   "cell_type": "markdown",
   "metadata": {},
   "source": [
    "Update Value Tuple dan Set"
   ]
  },
  {
   "cell_type": "code",
   "execution_count": 28,
   "metadata": {},
   "outputs": [
    {
     "name": "stdout",
     "output_type": "stream",
     "text": [
      "(3, 2, 1, 1, 2, 999)\n",
      "{2, 3, 999}\n"
     ]
    }
   ],
   "source": [
    "var_a = (3, 2, 1, 1, 2, 3)\n",
    "var_b = {3, 2, 1, 1, 2, 3}\n",
    "var_c = list(var_a)\n",
    "var_c[5] = 999\n",
    "var_a = tuple(var_c)\n",
    "print(var_a)\n",
    "var_d = list(var_b)\n",
    "var_d[0] = 999\n",
    "var_b = set(var_d)\n",
    "print(var_b)"
   ]
  },
  {
   "cell_type": "markdown",
   "metadata": {},
   "source": [
    "Tugas Part C"
   ]
  },
  {
   "cell_type": "code",
   "execution_count": 45,
   "metadata": {},
   "outputs": [
    {
     "name": "stdout",
     "output_type": "stream",
     "text": [
      "var_a:  (2, 3, 5, 6, 3, 3, 1, 2, 2, 4, 5, 6, 7)\n",
      "var_b:  {1, 2, 3, 4, 5, 6, 7}\n",
      "var_c:  [2, 3, 5, 6, 3, 3, 1, 2, 2, 4, 5, 6, 7]\n",
      "var_d:  [1, 2, 3, 4, 5, 6, 7]\n",
      "var_c:  [2, 3, 5, 999, 3, 3, 1, 2, 2, 4, 5, 6, 7]\n",
      "var_d:  [1, 2, 3, 999, 5, 6, 7]\n",
      "var_a:  (2, 3, 5, 999, 3, 3, 1, 2, 2, 4, 5, 6, 7)\n",
      "var_b:  {1, 2, 3, 5, 6, 999, 7}\n"
     ]
    },
    {
     "data": {
      "text/plain": [
       "{1, 2, 3, 5, 6, 7, 999}"
      ]
     },
     "execution_count": 45,
     "metadata": {},
     "output_type": "execute_result"
    }
   ],
   "source": [
    "var_a = (2,3,5,6,3,3,1,2,2,4,5,6,7)\n",
    "print('var_a: ', var_a)\n",
    "var_b = {2,3,5,6,3,3,1,2,2,4,5,6,7}\n",
    "print('var_b: ', var_b)\n",
    "\n",
    "var_c = list(var_a)\n",
    "print('var_c: ', var_c)\n",
    "var_d = list(var_b)\n",
    "print('var_d: ', var_d)\n",
    "\n",
    "var_c[3] = 999\n",
    "print('var_c: ', var_c)\n",
    "var_d[3] = 999\n",
    "print('var_d: ', var_d)\n",
    "\n",
    "var_a = tuple(var_c)\n",
    "print('var_a: ', var_a)\n",
    "var_b = set(var_d)\n",
    "print('var_b: ', var_b)\n",
    "\n",
    "var_b = set(var_d)\n",
    "var_b"
   ]
  },
  {
   "cell_type": "markdown",
   "metadata": {},
   "source": [
    "Dictionary"
   ]
  },
  {
   "cell_type": "code",
   "execution_count": 48,
   "metadata": {},
   "outputs": [
    {
     "data": {
      "text/plain": [
       "{'nama': 'ashari'}"
      ]
     },
     "execution_count": 48,
     "metadata": {},
     "output_type": "execute_result"
    }
   ],
   "source": [
    "my_dict1 = {'nama': 'ashari'}\n",
    "my_dict1"
   ]
  },
  {
   "cell_type": "code",
   "execution_count": 49,
   "metadata": {},
   "outputs": [
    {
     "data": {
      "text/plain": [
       "{':hobi': ['menggambar', 'bermusik']}"
      ]
     },
     "execution_count": 49,
     "metadata": {},
     "output_type": "execute_result"
    }
   ],
   "source": [
    "my_dict2 = {'hobi': ['menggambar', 'bermusik']}\n",
    "my_dict2"
   ]
  },
  {
   "cell_type": "code",
   "execution_count": 1,
   "metadata": {},
   "outputs": [
    {
     "name": "stdout",
     "output_type": "stream",
     "text": [
      "{'nama': 'ashari', 'hobi': ['menggambar', 'bermusik'], 'alamat': 'Taman Kopo Indah'}\n"
     ]
    }
   ],
   "source": [
    "my_dict3 = {'nama': 'ashari', 'hobi': ['menggambar', 'bermusik']}\n",
    "my_dict3['alamat']= 'Taman Kopo Indah'\n",
    "print(my_dict3)"
   ]
  },
  {
   "cell_type": "markdown",
   "metadata": {},
   "source": [
    "Tugas Part D"
   ]
  },
  {
   "cell_type": "code",
   "execution_count": 8,
   "metadata": {},
   "outputs": [
    {
     "name": "stdout",
     "output_type": "stream",
     "text": [
      "{'nama': '', 'nim': '', 'ttl': ''}\n",
      "{'nama': ['ashari', 'yan', 'ucup', 'ato', 'tunggul'], 'nim': '', 'ttl': ''}\n",
      "{'nama': ['ashari', 'yan', 'ucup', 'ato', 'tunggul'], 'nim': ['101217006', '101217001', '101217009', '101217089', '101217090'], 'ttl': ''}\n",
      "{'nama': ['ashari', 'yan', 'ucup', 'ato', 'tunggul'], 'nim': ['101217006', '101217001', '101217009', '101217089', '101217090'], 'ttl': ['18 Juli 1998', '23 Juni 1999', '17 Agustus 1997', '2 Mei 2000', '3 April 2001']}\n",
      "{'nama': ['ashari', 'yan', 'ucup', 'ato', 'tunggul'], 'nim': ['101217006', '101217001', '101217009', '101217089', '101217090'], 'ttl': ['18 Juli 1998', '23 Juni 1999', '17 Agustus 1997', '2 Mei 2000', '3 April 2001'], 'kota_asal': ['Tulungagung', 'Surabaya', 'Jakarta Utara', 'Jakarta Selatan', 'Surabaya']}\n"
     ]
    }
   ],
   "source": [
    "#Buatlah sebuah dictionary yang berisi tiga keys dengan nama keys 'nama' 'nim' dan 'ttl' disimpan dalam variabel data_mhs\n",
    "data_mhs = {'nama': '', 'nim': '', 'ttl': ''}\n",
    "print(data_mhs)\n",
    "\n",
    "#Masing-masing keys diisi dengan 5 nilai. Nama, nim, dan ttl diisi dengan nilai yang benar.\n",
    "data_mhs['nama'] = ['ashari', 'yan', 'ucup', 'ato', 'tunggul']\n",
    "print(data_mhs)\n",
    "\n",
    "data_mhs['nim'] = ['101217006', '101217001', '101217009', '101217089', '101217090']\n",
    "print(data_mhs)\n",
    "\n",
    "data_mhs['ttl'] = ['18 Juli 1998', '23 Juni 1999', '17 Agustus 1997', '2 Mei 2000', '3 April 2001']\n",
    "print(data_mhs)\n",
    "\n",
    "#Tambah keys pada data_mhs dengan `kota_asal` yang diisi dengan kota asal mhs yang bersangkutan\n",
    "data_mhs['kota_asal'] = ['Tulungagung', 'Surabaya', 'Jakarta Utara', 'Jakarta Selatan', 'Surabaya']\n",
    "print(data_mhs)"
   ]
  },
  {
   "cell_type": "markdown",
   "metadata": {},
   "source": [
    "Deklarasi Array"
   ]
  },
  {
   "cell_type": "code",
   "execution_count": 10,
   "metadata": {},
   "outputs": [],
   "source": [
    "import numpy as np"
   ]
  },
  {
   "cell_type": "code",
   "execution_count": 14,
   "metadata": {},
   "outputs": [
    {
     "name": "stdout",
     "output_type": "stream",
     "text": [
      "[8 6 2 3 1 4]\n"
     ]
    }
   ],
   "source": [
    "var_a = [8, 6, 2, 3, 1, 4]\n",
    "arr = np.array(var_a)\n",
    "print(arr)"
   ]
  },
  {
   "cell_type": "markdown",
   "metadata": {},
   "source": [
    "List Indexing, Slicing, dan Striding"
   ]
  },
  {
   "cell_type": "code",
   "execution_count": 20,
   "metadata": {},
   "outputs": [
    {
     "name": "stdout",
     "output_type": "stream",
     "text": [
      "8\n",
      "[6 6 2 2]\n",
      "[8 6 2 1 4]\n"
     ]
    }
   ],
   "source": [
    "my_arr = np.array([8, 6, 6, 2, 2, 3, 1, 4, 4])\n",
    "my_arr[0]\n",
    "print(my_arr[0])\n",
    "my_arr[1:5]\n",
    "print(my_arr[1:5])\n",
    "my_arr[::2]\n",
    "print(my_arr[::2])"
   ]
  },
  {
   "cell_type": "markdown",
   "metadata": {},
   "source": [
    "Value Update pada Array"
   ]
  },
  {
   "cell_type": "code",
   "execution_count": 21,
   "metadata": {},
   "outputs": [
    {
     "name": "stdout",
     "output_type": "stream",
     "text": [
      "[999   6   6   2   2   3   1   4   4]\n"
     ]
    }
   ],
   "source": [
    "my_arr = np.array([8, 6, 6, 2, 2, 3, 1, 4, 4])\n",
    "my_arr[0] = 999\n",
    "print(my_arr)"
   ]
  },
  {
   "cell_type": "markdown",
   "metadata": {},
   "source": [
    "Operasi Matematis pada Array"
   ]
  },
  {
   "cell_type": "code",
   "execution_count": 26,
   "metadata": {},
   "outputs": [
    {
     "name": "stdout",
     "output_type": "stream",
     "text": [
      "[ 2  4  6  8 10 12 12  8  6  6  4  8]\n",
      "[[ 3  6  9]\n",
      " [12 15 18]\n",
      " [18 12  9]\n",
      " [ 9  6 12]]\n"
     ]
    }
   ],
   "source": [
    "my_arr1 = np.array([1, 2, 3, 4, 5, 6, 6, 4, 3, 3, 2, 4])\n",
    "my_arr2 = np.array([[1, 2, 3], [4, 5, 6], [6, 4, 3], [3, 2, 4]])\n",
    "my_arr1 * 2\n",
    "print(my_arr1 * 2)\n",
    "print(my_arr2 * 3)"
   ]
  },
  {
   "cell_type": "markdown",
   "metadata": {},
   "source": [
    "Tugas Part E"
   ]
  },
  {
   "cell_type": "code",
   "execution_count": 27,
   "metadata": {},
   "outputs": [],
   "source": [
    "import numpy as np"
   ]
  },
  {
   "cell_type": "code",
   "execution_count": 36,
   "metadata": {},
   "outputs": [
    {
     "name": "stdout",
     "output_type": "stream",
     "text": [
      "arr_a: [[6 0 7 4 0]\n",
      " [9 2 7 9 2]\n",
      " [5 3 3 0 1]\n",
      " [6 8 3 5 7]]\n",
      "arr_b:  [[8]\n",
      " [0]\n",
      " [2]\n",
      " [9]]\n",
      "arr_c:  [8 0 2 9]\n",
      "sum_ab:  [[14  8 15 12  8]\n",
      " [ 9  2  7  9  2]\n",
      " [ 7  5  5  2  3]\n",
      " [15 17 12 14 16]]\n",
      "arr_a:  [[6 0 7 4 0]\n",
      " [9 2 7 9 2]\n",
      " [5 3 3 0 1]\n",
      " [6 8 3 5 7]] arr_b:  [[8]\n",
      " [0]\n",
      " [2]\n",
      " [9]] arr_c:  [8 0 2 9] sum_ab:  [[14  8 15 12  8]\n",
      " [ 9  2  7  9  2]\n",
      " [ 7  5  5  2  3]\n",
      " [15 17 12 14 16]]\n"
     ]
    },
    {
     "ename": "ValueError",
     "evalue": "operands could not be broadcast together with shapes (4,5) (4,) ",
     "output_type": "error",
     "traceback": [
      "\u001b[1;31m---------------------------------------------------------------------------\u001b[0m",
      "\u001b[1;31mValueError\u001b[0m                                Traceback (most recent call last)",
      "\u001b[1;32m~\\AppData\\Local\\Temp\\ipykernel_17240\\753428665.py\u001b[0m in \u001b[0;36m<module>\u001b[1;34m\u001b[0m\n\u001b[0;32m     18\u001b[0m \u001b[1;33m\u001b[0m\u001b[0m\n\u001b[0;32m     19\u001b[0m \u001b[1;31m#Lakukan operasi penjumlahan antara arr_a dan arr_c\u001b[0m\u001b[1;33m\u001b[0m\u001b[1;33m\u001b[0m\u001b[1;33m\u001b[0m\u001b[0m\n\u001b[1;32m---> 20\u001b[1;33m \u001b[0msum_ac\u001b[0m \u001b[1;33m=\u001b[0m \u001b[0marr_a\u001b[0m \u001b[1;33m+\u001b[0m \u001b[0marr_c\u001b[0m\u001b[1;33m\u001b[0m\u001b[1;33m\u001b[0m\u001b[0m\n\u001b[0m\u001b[0;32m     21\u001b[0m \u001b[0mprint\u001b[0m\u001b[1;33m(\u001b[0m\u001b[1;34m'sum_ac: '\u001b[0m\u001b[1;33m,\u001b[0m \u001b[0msum_ac\u001b[0m\u001b[1;33m)\u001b[0m\u001b[1;33m\u001b[0m\u001b[1;33m\u001b[0m\u001b[0m\n\u001b[0;32m     22\u001b[0m \u001b[1;33m\u001b[0m\u001b[0m\n",
      "\u001b[1;31mValueError\u001b[0m: operands could not be broadcast together with shapes (4,5) (4,) "
     ]
    }
   ],
   "source": [
    "#Buatlah sebuah array dengan nilai [[6 0 7 4 0],[9 2 7 9 2],[5 3 3 0 1],[6 8 3 5 7]] pada variabel arr_a\n",
    "arr_a = np.array([[6, 0, 7, 4, 0], [9, 2, 7, 9, 2], [5, 3, 3, 0, 1], [6, 8, 3, 5, 7]])\n",
    "print('arr_a:', arr_a)\n",
    "\n",
    "#Buatlah sebuah array dengan nilai [[8], [0], [2], [9]] pada variabel arr_b\n",
    "arr_b = np.array([[8], [0], [2], [9]])\n",
    "print('arr_b: ', arr_b)\n",
    "\n",
    "#Buatlah sebuah array dengan nilai [8, 0, 2, 9] pada variabel arr_c\n",
    "arr_c = np.array([8, 0, 2, 9])\n",
    "print('arr_c: ', arr_c)\n",
    "\n",
    "#Lakukan operasi penjumlahan antara arr_a dan arr_b\n",
    "sum_ab = arr_a + arr_b\n",
    "print('sum_ab: ', sum_ab)\n",
    "\n",
    "print('arr_a: ', arr_a, 'arr_b: ', arr_b, 'arr_c: ', arr_c, 'sum_ab: ', sum_ab)\n",
    "\n",
    "#Lakukan operasi penjumlahan antara arr_a dan arr_c\n",
    "sum_ac = arr_a + arr_c\n",
    "print('sum_ac: ', sum_ac)\n",
    "\n"
   ]
  },
  {
   "cell_type": "markdown",
   "metadata": {},
   "source": [
    "Operasi antara arr_a dan arr_c error karena masing-masing memiliki jumlah list yang berbeda (arr_a punya 4 list, sedangkan arr_c hanya 1 list)"
   ]
  }
 ],
 "metadata": {
  "interpreter": {
   "hash": "2b7b5a710781a87842cfe8010c06442799678ef166246941c85da77d9a8410c1"
  },
  "kernelspec": {
   "display_name": "Python 3.7.5 64-bit",
   "language": "python",
   "name": "python3"
  },
  "language_info": {
   "codemirror_mode": {
    "name": "ipython",
    "version": 3
   },
   "file_extension": ".py",
   "mimetype": "text/x-python",
   "name": "python",
   "nbconvert_exporter": "python",
   "pygments_lexer": "ipython3",
   "version": "3.7.5"
  },
  "orig_nbformat": 4
 },
 "nbformat": 4,
 "nbformat_minor": 2
}
