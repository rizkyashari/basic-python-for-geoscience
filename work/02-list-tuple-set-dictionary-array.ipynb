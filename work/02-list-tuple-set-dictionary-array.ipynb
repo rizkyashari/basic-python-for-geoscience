{
 "cells": [
  {
   "cell_type": "markdown",
   "metadata": {},
   "source": [
    "Data Collection"
   ]
  },
  {
   "cell_type": "code",
   "execution_count": 2,
   "metadata": {},
   "outputs": [],
   "source": [
    "list_data = [1, 2, 3, 4, 5, 6]"
   ]
  },
  {
   "cell_type": "code",
   "execution_count": 3,
   "metadata": {},
   "outputs": [
    {
     "data": {
      "text/plain": [
       "[1, 2, 3, 4, 5, 6]"
      ]
     },
     "execution_count": 3,
     "metadata": {},
     "output_type": "execute_result"
    }
   ],
   "source": [
    "list_data"
   ]
  },
  {
   "cell_type": "code",
   "execution_count": 5,
   "metadata": {},
   "outputs": [
    {
     "data": {
      "text/plain": [
       "1"
      ]
     },
     "execution_count": 5,
     "metadata": {},
     "output_type": "execute_result"
    }
   ],
   "source": [
    "list_data[0]"
   ]
  },
  {
   "cell_type": "code",
   "execution_count": 6,
   "metadata": {},
   "outputs": [
    {
     "data": {
      "text/plain": [
       "6"
      ]
     },
     "execution_count": 6,
     "metadata": {},
     "output_type": "execute_result"
    }
   ],
   "source": [
    "list_data[5]"
   ]
  },
  {
   "cell_type": "code",
   "execution_count": 8,
   "metadata": {},
   "outputs": [
    {
     "data": {
      "text/plain": [
       "[1, 2, 3]"
      ]
     },
     "execution_count": 8,
     "metadata": {},
     "output_type": "execute_result"
    }
   ],
   "source": [
    "list_data[0:3]"
   ]
  },
  {
   "cell_type": "code",
   "execution_count": 9,
   "metadata": {},
   "outputs": [
    {
     "data": {
      "text/plain": [
       "[1, 3, 5]"
      ]
     },
     "execution_count": 9,
     "metadata": {},
     "output_type": "execute_result"
    }
   ],
   "source": [
    "list_data[0:5:2]"
   ]
  },
  {
   "cell_type": "markdown",
   "metadata": {},
   "source": [
    "Tugas Part A"
   ]
  },
  {
   "cell_type": "code",
   "execution_count": 13,
   "metadata": {},
   "outputs": [
    {
     "name": "stdout",
     "output_type": "stream",
     "text": [
      "9\n",
      "[1, 9, 1]\n",
      "[2, 1, 4]\n"
     ]
    }
   ],
   "source": [
    "var_a = [2, 1, 9, 1, 3, 4]\n",
    "print(var_a[2])\n",
    "print(var_a[1:4])\n",
    "print([var_a[0],var_a[1],var_a[5]])"
   ]
  },
  {
   "cell_type": "markdown",
   "metadata": {},
   "source": [
    "Tugas Part B"
   ]
  },
  {
   "cell_type": "code",
   "execution_count": 3,
   "metadata": {},
   "outputs": [
    {
     "name": "stdout",
     "output_type": "stream",
     "text": [
      "max_id:  62\n",
      "min_id:  11\n",
      "data_range:  51\n",
      "mean:  32.44444444444444\n",
      "my_list:  [12, 21, 33, 45, 54, 62, 23, 11]\n",
      "my_list:  [12, 21, 33, 45, 54, 62, 23, 11, 999]\n",
      "combined_list:  [12, 21, 33, 45, 54, 62, 23, 11, 999, [1, 2, 3, 4, 5, 6, 3, 2, 1], [1, 2, 3, 4, 5, 6, 3, 2, 1], [1, 2, 3, 4, 5, 6, 3, 2, 1]]\n",
      "combined_list:  [12, 21, 33, 45, 54, 62, 23, 11, 999, [1, 2, 3, 4, 5, 6, 3, 2, 1], [1, 2, 3, 4, 5, 6, 3, 2, 1], -999]\n"
     ]
    }
   ],
   "source": [
    "my_2d_list = [[1, 2, 3, 4, 5, 6, 3, 2, 1], [1, 2, 3, 4, 5, 6, 3, 2, 1], [1, 2, 3, 4, 5, 6, 3, 2, 1]]\n",
    "my_list = [12, 21, 33, 45, 54, 62, 31, 23, 11]\n",
    "\n",
    "#Nilai maksimum dari my_list\n",
    "max_1d = max(my_list)\n",
    "print('max_id: ', max_1d)\n",
    "\n",
    "#Nilai minimum dari my_list\n",
    "min_1d = min(my_list)\n",
    "print('min_id: ', min_1d)\n",
    "\n",
    "#Range data\n",
    "data_range = max_1d - min_1d\n",
    "print('data_range: ', data_range)\n",
    "\n",
    "#Nilai rata-rata dari my_list\n",
    "avg_1d = sum(my_list)/len(my_list)\n",
    "print('mean: ', avg_1d)\n",
    "\n",
    "#Hapus elemen 31 pada my_list\n",
    "my_list.remove(31)\n",
    "print('my_list: ', my_list)\n",
    "\n",
    "#Tambahkan nilai 999 di akhir list\n",
    "my_list.append(999)\n",
    "print('my_list: ', my_list)\n",
    "\n",
    "#Lakukan penjumlahan antara my_list dengan my_2d_list\n",
    "combined_list = my_list + my_2d_list\n",
    "print('combined_list: ', combined_list)\n",
    "\n",
    "#Ubah nilai terakhir dari combined_list menjadi -999\n",
    "combined_list[11] = -999\n",
    "print('combined_list: ', combined_list)"
   ]
  },
  {
   "cell_type": "markdown",
   "metadata": {},
   "source": [
    "Tuple dan Set"
   ]
  },
  {
   "cell_type": "code",
   "execution_count": 7,
   "metadata": {},
   "outputs": [
    {
     "name": "stdout",
     "output_type": "stream",
     "text": [
      "(1, 2, 3, 1, 2, 3)\n"
     ]
    }
   ],
   "source": [
    "var_a = (1, 2, 3, 1, 2, 3)\n",
    "print(var_a)"
   ]
  },
  {
   "cell_type": "code",
   "execution_count": 11,
   "metadata": {},
   "outputs": [
    {
     "name": "stdout",
     "output_type": "stream",
     "text": [
      "{1, 2, 3}\n",
      "1\n",
      "(1, 2)\n"
     ]
    },
    {
     "ename": "TypeError",
     "evalue": "'set' object is not subscriptable",
     "output_type": "error",
     "traceback": [
      "\u001b[1;31m---------------------------------------------------------------------------\u001b[0m",
      "\u001b[1;31mTypeError\u001b[0m                                 Traceback (most recent call last)",
      "\u001b[1;32m~\\AppData\\Local\\Temp\\ipykernel_16620\\967768213.py\u001b[0m in \u001b[0;36m<module>\u001b[1;34m\u001b[0m\n\u001b[0;32m      3\u001b[0m \u001b[0mprint\u001b[0m\u001b[1;33m(\u001b[0m\u001b[0mvar_a\u001b[0m\u001b[1;33m[\u001b[0m\u001b[1;36m3\u001b[0m\u001b[1;33m]\u001b[0m\u001b[1;33m)\u001b[0m\u001b[1;33m\u001b[0m\u001b[1;33m\u001b[0m\u001b[0m\n\u001b[0;32m      4\u001b[0m \u001b[0mprint\u001b[0m\u001b[1;33m(\u001b[0m\u001b[0mvar_a\u001b[0m\u001b[1;33m[\u001b[0m\u001b[1;36m3\u001b[0m\u001b[1;33m:\u001b[0m\u001b[1;36m5\u001b[0m\u001b[1;33m]\u001b[0m\u001b[1;33m)\u001b[0m\u001b[1;33m\u001b[0m\u001b[1;33m\u001b[0m\u001b[0m\n\u001b[1;32m----> 5\u001b[1;33m \u001b[0mprint\u001b[0m\u001b[1;33m(\u001b[0m\u001b[0mvar_b\u001b[0m\u001b[1;33m[\u001b[0m\u001b[1;36m0\u001b[0m\u001b[1;33m]\u001b[0m\u001b[1;33m)\u001b[0m\u001b[1;33m\u001b[0m\u001b[1;33m\u001b[0m\u001b[0m\n\u001b[0m",
      "\u001b[1;31mTypeError\u001b[0m: 'set' object is not subscriptable"
     ]
    }
   ],
   "source": [
    "var_b = {1, 2, 3, 1, 2, 3}\n",
    "print(var_b)\n",
    "print(var_a[3])\n",
    "print(var_a[3:5])\n",
    "print(var_b[0])"
   ]
  },
  {
   "cell_type": "markdown",
   "metadata": {},
   "source": [
    "Operasi pada Tuple dan Set"
   ]
  },
  {
   "cell_type": "code",
   "execution_count": 13,
   "metadata": {},
   "outputs": [
    {
     "name": "stdout",
     "output_type": "stream",
     "text": [
      "(1, 2, 3, 1, 2, 3, 1, 2, 3, 1, 2, 3)\n"
     ]
    },
    {
     "ename": "TypeError",
     "evalue": "can only concatenate tuple (not \"set\") to tuple",
     "output_type": "error",
     "traceback": [
      "\u001b[1;31m---------------------------------------------------------------------------\u001b[0m",
      "\u001b[1;31mTypeError\u001b[0m                                 Traceback (most recent call last)",
      "\u001b[1;32m~\\AppData\\Local\\Temp\\ipykernel_16620\\878967234.py\u001b[0m in \u001b[0;36m<module>\u001b[1;34m\u001b[0m\n\u001b[0;32m      2\u001b[0m \u001b[0mvar_b\u001b[0m \u001b[1;33m=\u001b[0m \u001b[1;33m{\u001b[0m\u001b[1;36m1\u001b[0m\u001b[1;33m,\u001b[0m \u001b[1;36m2\u001b[0m\u001b[1;33m,\u001b[0m \u001b[1;36m3\u001b[0m\u001b[1;33m,\u001b[0m \u001b[1;36m1\u001b[0m\u001b[1;33m,\u001b[0m \u001b[1;36m2\u001b[0m\u001b[1;33m,\u001b[0m \u001b[1;36m3\u001b[0m\u001b[1;33m}\u001b[0m\u001b[1;33m\u001b[0m\u001b[1;33m\u001b[0m\u001b[0m\n\u001b[0;32m      3\u001b[0m \u001b[0mprint\u001b[0m\u001b[1;33m(\u001b[0m\u001b[0mvar_a\u001b[0m\u001b[1;33m*\u001b[0m\u001b[1;36m2\u001b[0m\u001b[1;33m)\u001b[0m\u001b[1;33m\u001b[0m\u001b[1;33m\u001b[0m\u001b[0m\n\u001b[1;32m----> 4\u001b[1;33m \u001b[0mprint\u001b[0m\u001b[1;33m(\u001b[0m\u001b[0mvar_a\u001b[0m \u001b[1;33m+\u001b[0m \u001b[0mvar_b\u001b[0m\u001b[1;33m)\u001b[0m\u001b[1;33m\u001b[0m\u001b[1;33m\u001b[0m\u001b[0m\n\u001b[0m",
      "\u001b[1;31mTypeError\u001b[0m: can only concatenate tuple (not \"set\") to tuple"
     ]
    }
   ],
   "source": [
    "var_a = (1, 2, 3, 1, 2, 3)\n",
    "var_b = {1, 2, 3, 1, 2, 3}\n",
    "print(var_a*2)\n",
    "print(var_a + var_b)"
   ]
  },
  {
   "cell_type": "markdown",
   "metadata": {},
   "source": [
    "Update Value Tuple dan Set"
   ]
  },
  {
   "cell_type": "code",
   "execution_count": 28,
   "metadata": {},
   "outputs": [
    {
     "name": "stdout",
     "output_type": "stream",
     "text": [
      "(3, 2, 1, 1, 2, 999)\n",
      "{2, 3, 999}\n"
     ]
    }
   ],
   "source": [
    "var_a = (3, 2, 1, 1, 2, 3)\n",
    "var_b = {3, 2, 1, 1, 2, 3}\n",
    "var_c = list(var_a)\n",
    "var_c[5] = 999\n",
    "var_a = tuple(var_c)\n",
    "print(var_a)\n",
    "var_d = list(var_b)\n",
    "var_d[0] = 999\n",
    "var_b = set(var_d)\n",
    "print(var_b)"
   ]
  },
  {
   "cell_type": "markdown",
   "metadata": {},
   "source": [
    "Tugas Part C"
   ]
  },
  {
   "cell_type": "code",
   "execution_count": 45,
   "metadata": {},
   "outputs": [
    {
     "name": "stdout",
     "output_type": "stream",
     "text": [
      "var_a:  (2, 3, 5, 6, 3, 3, 1, 2, 2, 4, 5, 6, 7)\n",
      "var_b:  {1, 2, 3, 4, 5, 6, 7}\n",
      "var_c:  [2, 3, 5, 6, 3, 3, 1, 2, 2, 4, 5, 6, 7]\n",
      "var_d:  [1, 2, 3, 4, 5, 6, 7]\n",
      "var_c:  [2, 3, 5, 999, 3, 3, 1, 2, 2, 4, 5, 6, 7]\n",
      "var_d:  [1, 2, 3, 999, 5, 6, 7]\n",
      "var_a:  (2, 3, 5, 999, 3, 3, 1, 2, 2, 4, 5, 6, 7)\n",
      "var_b:  {1, 2, 3, 5, 6, 999, 7}\n"
     ]
    },
    {
     "data": {
      "text/plain": [
       "{1, 2, 3, 5, 6, 7, 999}"
      ]
     },
     "execution_count": 45,
     "metadata": {},
     "output_type": "execute_result"
    }
   ],
   "source": [
    "var_a = (2,3,5,6,3,3,1,2,2,4,5,6,7)\n",
    "print('var_a: ', var_a)\n",
    "var_b = {2,3,5,6,3,3,1,2,2,4,5,6,7}\n",
    "print('var_b: ', var_b)\n",
    "\n",
    "var_c = list(var_a)\n",
    "print('var_c: ', var_c)\n",
    "var_d = list(var_b)\n",
    "print('var_d: ', var_d)\n",
    "\n",
    "var_c[3] = 999\n",
    "print('var_c: ', var_c)\n",
    "var_d[3] = 999\n",
    "print('var_d: ', var_d)\n",
    "\n",
    "var_a = tuple(var_c)\n",
    "print('var_a: ', var_a)\n",
    "var_b = set(var_d)\n",
    "print('var_b: ', var_b)\n",
    "\n",
    "var_b = set(var_d)\n",
    "var_b"
   ]
  },
  {
   "cell_type": "markdown",
   "metadata": {},
   "source": [
    "Dictionary"
   ]
  },
  {
   "cell_type": "code",
   "execution_count": 48,
   "metadata": {},
   "outputs": [
    {
     "data": {
      "text/plain": [
       "{'nama': 'ashari'}"
      ]
     },
     "execution_count": 48,
     "metadata": {},
     "output_type": "execute_result"
    }
   ],
   "source": [
    "my_dict1 = {'nama': 'ashari'}\n",
    "my_dict1"
   ]
  },
  {
   "cell_type": "code",
   "execution_count": 49,
   "metadata": {},
   "outputs": [
    {
     "data": {
      "text/plain": [
       "{':hobi': ['menggambar', 'bermusik']}"
      ]
     },
     "execution_count": 49,
     "metadata": {},
     "output_type": "execute_result"
    }
   ],
   "source": [
    "my_dict2 = {'hobi': ['menggambar', 'bermusik']}\n",
    "my_dict2"
   ]
  },
  {
   "cell_type": "code",
   "execution_count": 51,
   "metadata": {},
   "outputs": [
    {
     "data": {
      "text/plain": [
       "{'nama': 'ashari', 'hobi': ['menggambar', 'bermusik']}"
      ]
     },
     "execution_count": 51,
     "metadata": {},
     "output_type": "execute_result"
    }
   ],
   "source": [
    "my_dict3 = {'nama': 'ashari', 'hobi': ['menggambar', 'bermusik']}\n",
    "my_dict3"
   ]
  }
 ],
 "metadata": {
  "interpreter": {
   "hash": "2b7b5a710781a87842cfe8010c06442799678ef166246941c85da77d9a8410c1"
  },
  "kernelspec": {
   "display_name": "Python 3.7.5 64-bit",
   "language": "python",
   "name": "python3"
  },
  "language_info": {
   "codemirror_mode": {
    "name": "ipython",
    "version": 3
   },
   "file_extension": ".py",
   "mimetype": "text/x-python",
   "name": "python",
   "nbconvert_exporter": "python",
   "pygments_lexer": "ipython3",
   "version": "3.7.5"
  },
  "orig_nbformat": 4
 },
 "nbformat": 4,
 "nbformat_minor": 2
}
