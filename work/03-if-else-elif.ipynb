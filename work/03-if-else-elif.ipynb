{
 "cells": [
  {
   "cell_type": "markdown",
   "metadata": {},
   "source": [
    "Flow Control dan Fungsi"
   ]
  },
  {
   "cell_type": "markdown",
   "metadata": {},
   "source": [
    "Console Prompt"
   ]
  },
  {
   "cell_type": "code",
   "execution_count": 1,
   "metadata": {},
   "outputs": [
    {
     "name": "stdout",
     "output_type": "stream",
     "text": [
      "10\n"
     ]
    }
   ],
   "source": [
    "a = 10\n",
    "print(a)"
   ]
  },
  {
   "cell_type": "code",
   "execution_count": 1,
   "metadata": {},
   "outputs": [
    {
     "name": "stdout",
     "output_type": "stream",
     "text": [
      "hello world\n",
      "[1, 2, 3, 4]\n"
     ]
    }
   ],
   "source": [
    "a = 'hello world'\n",
    "print(a)\n",
    "b = [1, 2, 3, 4]\n",
    "print(b)"
   ]
  },
  {
   "cell_type": "markdown",
   "metadata": {},
   "source": [
    "Penggunaan If Elif Else"
   ]
  },
  {
   "cell_type": "markdown",
   "metadata": {},
   "source": [
    "If ..."
   ]
  },
  {
   "cell_type": "code",
   "execution_count": 19,
   "metadata": {},
   "outputs": [
    {
     "name": "stdout",
     "output_type": "stream",
     "text": [
      "A kurang dari 10\n"
     ]
    }
   ],
   "source": [
    "a = 8\n",
    "\n",
    "if a<10:\n",
    "    print('A kurang dari 10')\n",
    "else:\n",
    "    print('A lebih dari 10')"
   ]
  },
  {
   "cell_type": "code",
   "execution_count": 20,
   "metadata": {},
   "outputs": [
    {
     "name": "stdout",
     "output_type": "stream",
     "text": [
      "A lebih dari 10\n"
     ]
    }
   ],
   "source": [
    "a = 12\n",
    "\n",
    "if a<10:\n",
    "    print('A kurang dari 10')\n",
    "else:\n",
    "    print('A lebih dari 10')"
   ]
  },
  {
   "cell_type": "markdown",
   "metadata": {},
   "source": [
    "If ... dengan multiconditional rule"
   ]
  },
  {
   "cell_type": "code",
   "execution_count": 14,
   "metadata": {},
   "outputs": [
    {
     "name": "stdout",
     "output_type": "stream",
     "text": [
      "A lebih dari 2 atau kurang dari 10\n"
     ]
    }
   ],
   "source": [
    "a = 7\n",
    "b = 30\n",
    "\n",
    "if ((a>2) or (b<10)):\n",
    "    print('A lebih dari 2 atau kurang dari 10')"
   ]
  },
  {
   "cell_type": "code",
   "execution_count": 15,
   "metadata": {},
   "outputs": [],
   "source": [
    "a = 7\n",
    "b = 30\n",
    "\n",
    "if ((a>2) and (b<10)):\n",
    "    print('A lebih dari 2 atau kurang dari 10')"
   ]
  },
  {
   "cell_type": "markdown",
   "metadata": {},
   "source": [
    "Exercise 1"
   ]
  },
  {
   "cell_type": "code",
   "execution_count": 21,
   "metadata": {},
   "outputs": [
    {
     "name": "stdout",
     "output_type": "stream",
     "text": [
      "Jantan\n"
     ]
    }
   ],
   "source": [
    "# Code here:\n",
    "berat = 3\n",
    "tinggi = 30\n",
    "\n",
    "if ((berat>2) or (tinggi>25)):\n",
    "    print('Jantan')\n",
    "else:\n",
    "    print('Betina')"
   ]
  },
  {
   "cell_type": "code",
   "execution_count": 23,
   "metadata": {},
   "outputs": [
    {
     "name": "stdout",
     "output_type": "stream",
     "text": [
      "Betina\n"
     ]
    }
   ],
   "source": [
    "berat = 1\n",
    "tinggi = 20\n",
    "\n",
    "if ((berat>2) or (tinggi>25)):\n",
    "    print('Jantan')\n",
    "else:\n",
    "    print('Betina')"
   ]
  },
  {
   "cell_type": "markdown",
   "metadata": {},
   "source": [
    "If ... else ..."
   ]
  },
  {
   "cell_type": "code",
   "execution_count": 24,
   "metadata": {},
   "outputs": [
    {
     "name": "stdout",
     "output_type": "stream",
     "text": [
      "a kurang dari 3\n"
     ]
    }
   ],
   "source": [
    "a = 2\n",
    "\n",
    "if a>3:\n",
    "    print('a lebih dari 3')\n",
    "else:\n",
    "    print('a kurang dari 3')"
   ]
  },
  {
   "cell_type": "markdown",
   "metadata": {},
   "source": [
    "Nested if ...'s"
   ]
  },
  {
   "cell_type": "code",
   "execution_count": 25,
   "metadata": {},
   "outputs": [
    {
     "name": "stdout",
     "output_type": "stream",
     "text": [
      "wiw\n"
     ]
    }
   ],
   "source": [
    "a = 10\n",
    "b = 24\n",
    "\n",
    "if a>=20:\n",
    "    if b<10:\n",
    "        print('wow')\n",
    "    else:\n",
    "        print('wew')\n",
    "else:\n",
    "    print('wiw')"
   ]
  },
  {
   "cell_type": "code",
   "execution_count": 29,
   "metadata": {},
   "outputs": [
    {
     "name": "stdout",
     "output_type": "stream",
     "text": [
      "wow\n"
     ]
    }
   ],
   "source": [
    "a = 20\n",
    "b = 9\n",
    "\n",
    "if a>=20:\n",
    "    if b<10:\n",
    "        print('wow')\n",
    "    else:\n",
    "        print('wew')\n",
    "else:\n",
    "    print('wiw')"
   ]
  },
  {
   "cell_type": "code",
   "execution_count": 30,
   "metadata": {},
   "outputs": [
    {
     "name": "stdout",
     "output_type": "stream",
     "text": [
      "wew\n"
     ]
    }
   ],
   "source": [
    "a = 20\n",
    "b = 11\n",
    "\n",
    "if a>=20:\n",
    "    if b<10:\n",
    "        print('wow')\n",
    "    else:\n",
    "        print('wew')\n",
    "else:\n",
    "    print('wiw')"
   ]
  },
  {
   "cell_type": "markdown",
   "metadata": {},
   "source": [
    "Exercise 2"
   ]
  },
  {
   "cell_type": "code",
   "execution_count": 38,
   "metadata": {},
   "outputs": [
    {
     "name": "stdout",
     "output_type": "stream",
     "text": [
      "jantan\n",
      "ayam kota\n"
     ]
    }
   ],
   "source": [
    "berat = 3\n",
    "tinggi = 30\n",
    "bulu = 'merah'\n",
    "\n",
    "if ((berat>2) or (tinggi>25)):\n",
    "    print('jantan')\n",
    "    if bulu == 'merah':\n",
    "        print('ayam kota')\n",
    "    else:\n",
    "        print('ayam kampung')\n",
    "else:\n",
    "    print('betina')\n",
    "    if bulu == 'merah':\n",
    "        print('ayam kota')\n",
    "    else:\n",
    "        print('ayam kampung')\n",
    "    "
   ]
  },
  {
   "cell_type": "code",
   "execution_count": 37,
   "metadata": {},
   "outputs": [
    {
     "name": "stdout",
     "output_type": "stream",
     "text": [
      "betina\n",
      "ayam kampung\n"
     ]
    }
   ],
   "source": [
    "berat = 2\n",
    "tinggi = 25\n",
    "bulu = 'hitam'\n",
    "\n",
    "if ((berat>2) or (tinggi>25)):\n",
    "    print('jantan')\n",
    "    if bulu == 'merah':\n",
    "        print('ayam kota')\n",
    "    else:\n",
    "        print('ayam kampung')\n",
    "else:\n",
    "    print('betina')\n",
    "    if bulu == 'merah':\n",
    "        print('ayam kota')\n",
    "    else:\n",
    "        print('ayam kampung')"
   ]
  },
  {
   "cell_type": "markdown",
   "metadata": {},
   "source": [
    "Penggunaan elif"
   ]
  },
  {
   "cell_type": "code",
   "execution_count": 40,
   "metadata": {},
   "outputs": [
    {
     "name": "stdout",
     "output_type": "stream",
     "text": [
      "kurang dari 10\n"
     ]
    }
   ],
   "source": [
    "x = 5\n",
    "\n",
    "if x>=15:\n",
    "    print('lebih dari sama dengan 15')\n",
    "elif x>=10 and x<15:\n",
    "    print('di antara 10 dan 15')\n",
    "else:\n",
    "    print('kurang dari 10')"
   ]
  },
  {
   "cell_type": "code",
   "execution_count": 41,
   "metadata": {},
   "outputs": [
    {
     "name": "stdout",
     "output_type": "stream",
     "text": [
      "di antara 10 dan 15\n"
     ]
    }
   ],
   "source": [
    "x = 11\n",
    "\n",
    "if x>=15:\n",
    "    print('lebih dari sama dengan 15')\n",
    "elif x>=10 and x<15:\n",
    "    print('di antara 10 dan 15')\n",
    "else:\n",
    "    print('kurang dari 10')"
   ]
  },
  {
   "cell_type": "markdown",
   "metadata": {},
   "source": [
    "Exercise 3"
   ]
  },
  {
   "cell_type": "code",
   "execution_count": 51,
   "metadata": {},
   "outputs": [
    {
     "name": "stdout",
     "output_type": "stream",
     "text": [
      "A\n"
     ]
    }
   ],
   "source": [
    "nilai = 90\n",
    "\n",
    "if nilai>=80 and nilai<=100:\n",
    "    print('A')\n",
    "elif nilai>=70 and nilai<80:\n",
    "    print('B')\n",
    "elif nilai>=60 and nilai<70:\n",
    "    print('C')\n",
    "elif nilai>=50 and nilai<60:\n",
    "    print('D')\n",
    "else:\n",
    "    if nilai>100:\n",
    "        print('kelebihan boss')\n",
    "    else:\n",
    "        print('E')"
   ]
  },
  {
   "cell_type": "code",
   "execution_count": 52,
   "metadata": {},
   "outputs": [
    {
     "name": "stdout",
     "output_type": "stream",
     "text": [
      "kelebihan boss\n"
     ]
    }
   ],
   "source": [
    "nilai = 101\n",
    "\n",
    "if nilai>=80 and nilai<=100:\n",
    "    print('A')\n",
    "elif nilai>=70 and nilai<80:\n",
    "    print('B')\n",
    "elif nilai>=60 and nilai<70:\n",
    "    print('C')\n",
    "elif nilai>=50 and nilai<60:\n",
    "    print('D')\n",
    "else:\n",
    "    if nilai>100:\n",
    "        print('kelebihan boss')\n",
    "    else:\n",
    "        print('E')"
   ]
  }
 ],
 "metadata": {
  "interpreter": {
   "hash": "2b7b5a710781a87842cfe8010c06442799678ef166246941c85da77d9a8410c1"
  },
  "kernelspec": {
   "display_name": "Python 3.7.5 64-bit",
   "language": "python",
   "name": "python3"
  },
  "language_info": {
   "codemirror_mode": {
    "name": "ipython",
    "version": 3
   },
   "file_extension": ".py",
   "mimetype": "text/x-python",
   "name": "python",
   "nbconvert_exporter": "python",
   "pygments_lexer": "ipython3",
   "version": "3.7.5"
  },
  "orig_nbformat": 4
 },
 "nbformat": 4,
 "nbformat_minor": 2
}
